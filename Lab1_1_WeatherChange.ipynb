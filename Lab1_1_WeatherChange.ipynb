{
  "nbformat": 4,
  "nbformat_minor": 0,
  "metadata": {
    "colab": {
      "name": "Lab1.1_WeatherChange.ipynb",
      "provenance": [],
      "collapsed_sections": [],
      "toc_visible": true
    },
    "kernelspec": {
      "display_name": "Python 3",
      "language": "python",
      "name": "python3"
    },
    "language_info": {
      "codemirror_mode": {
        "name": "ipython",
        "version": 3
      },
      "file_extension": ".py",
      "mimetype": "text/x-python",
      "name": "python",
      "nbconvert_exporter": "python",
      "pygments_lexer": "ipython3",
      "version": "3.6.8"
    }
  },
  "cells": [
    {
      "cell_type": "markdown",
      "metadata": {
        "id": "9zDPadTUqgRp"
      },
      "source": [
        "# Introduction to Modeling of Estimation for Weather Change Class"
      ]
    },
    {
      "cell_type": "markdown",
      "metadata": {
        "id": "QiXRNAWbgNFH"
      },
      "source": [
        "#  Laboratory #1\n",
        "##  Name: **Berny Alfonso Carrera Gordillo**\n",
        "*   Industrial and Management Engineering\n",
        "*   AI\n",
        "*   September 24th 2020"
      ]
    },
    {
      "cell_type": "code",
      "metadata": {
        "colab": {
          "base_uri": "https://localhost:8080/",
          "height": 34
        },
        "id": "lbqhO6aOf7na",
        "outputId": "6c0cf927-dd90-45a4-bd79-39f573b5cb49"
      },
      "source": [
        "a = 11\n",
        "b = 12 \n",
        "print (a + b)"
      ],
      "execution_count": null,
      "outputs": [
        {
          "output_type": "stream",
          "text": [
            "23\n"
          ],
          "name": "stdout"
        }
      ]
    },
    {
      "cell_type": "code",
      "metadata": {
        "colab": {
          "base_uri": "https://localhost:8080/",
          "height": 34
        },
        "id": "G3PJKUxwgjYf",
        "outputId": "b7fbe697-c721-4952-813c-0041e61170e3"
      },
      "source": [
        "a += 1\n",
        "print (a + b)"
      ],
      "execution_count": null,
      "outputs": [
        {
          "output_type": "stream",
          "text": [
            "24\n"
          ],
          "name": "stdout"
        }
      ]
    },
    {
      "cell_type": "code",
      "metadata": {
        "colab": {
          "base_uri": "https://localhost:8080/"
        },
        "id": "iVNzm8PCfUEf",
        "outputId": "1edc2164-a060-40e3-d2b9-0587734269a3"
      },
      "source": [
        "from google.colab import drive\n",
        "drive.mount('/content/drive')"
      ],
      "execution_count": 1,
      "outputs": [
        {
          "output_type": "stream",
          "text": [
            "Mounted at /content/drive\n"
          ],
          "name": "stdout"
        }
      ]
    },
    {
      "cell_type": "code",
      "metadata": {
        "colab": {
          "base_uri": "https://localhost:8080/"
        },
        "id": "lFOvs6XxgZfa",
        "outputId": "7ee3bb3e-f49f-4475-f6b9-462e1c62c057"
      },
      "source": [
        "!pwd"
      ],
      "execution_count": 2,
      "outputs": [
        {
          "output_type": "stream",
          "text": [
            "/content\n"
          ],
          "name": "stdout"
        }
      ]
    },
    {
      "cell_type": "code",
      "metadata": {
        "colab": {
          "base_uri": "https://localhost:8080/"
        },
        "id": "FB_DXSl3goei",
        "outputId": "b3de03c5-f083-4150-c323-79d4043646aa"
      },
      "source": [
        "!ls 'drive/My Drive/Colab Notebooks'"
      ],
      "execution_count": 3,
      "outputs": [
        {
          "output_type": "stream",
          "text": [
            "'Copy of l01c01_introduction_to_colab_and_python.ipynb'   Untitled0.ipynb\n",
            "'Copy of Lab1.1_WeatherChange.ipynb'\t\t\t  Untitled1.ipynb\n",
            " Lab1.1_WeatherChange.ipynb\t\t\t\t  Untitled2.ipynb\n",
            " Lab1_WeatherChange.ipynb\t\t\t\t  Untitled3.ipynb\n",
            " La_Biblia.txt\t\t\t\t\t\t  Untitled4.ipynb\n",
            "'Laboratory 2.ipynb'\t\t\t\t\t  Untitled5.ipynb\n",
            " navidad.txt\t\t\t\t\t\t  Untitled6.ipynb\n",
            "'TF2.0 Intro.ipynb'\n"
          ],
          "name": "stdout"
        }
      ]
    },
    {
      "cell_type": "code",
      "metadata": {
        "id": "3oWQPAal9T4k",
        "outputId": "739442e9-1d60-41f2-a985-5df18b75a972"
      },
      "source": [
        "1+1"
      ],
      "execution_count": null,
      "outputs": [
        {
          "output_type": "execute_result",
          "data": {
            "text/plain": [
              "2"
            ]
          },
          "metadata": {
            "tags": []
          },
          "execution_count": 4
        }
      ]
    }
  ]
}